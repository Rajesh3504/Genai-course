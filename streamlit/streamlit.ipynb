{
 "cells": [
  {
   "cell_type": "markdown",
   "id": "3981a3c4",
   "metadata": {},
   "source": [
    "# Introduction to Streamlit"
   ]
  },
  {
   "cell_type": "markdown",
   "id": "675de538",
   "metadata": {},
   "source": [
    "Streamlit is an Open-source app framework for Machine Learning and Data Science projects. It allows you to create beautiful web applications for your machine learning and data science projects with simple Python scripts without the need of html and css "
   ]
  },
  {
   "cell_type": "markdown",
   "id": "45d1415d",
   "metadata": {},
   "source": []
  }
 ],
 "metadata": {
  "language_info": {
   "name": "python"
  }
 },
 "nbformat": 4,
 "nbformat_minor": 5
}
